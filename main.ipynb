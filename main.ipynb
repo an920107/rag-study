{
 "cells": [
  {
   "cell_type": "code",
   "execution_count": 1,
   "id": "84a9ed74",
   "metadata": {},
   "outputs": [],
   "source": [
    "from dotenv import load_dotenv\n",
    "from google import genai\n",
    "\n",
    "load_dotenv()\n",
    "gemini_client = genai.Client()"
   ]
  },
  {
   "cell_type": "code",
   "execution_count": 2,
   "id": "1eb568f1",
   "metadata": {},
   "outputs": [
    {
     "name": "stdout",
     "output_type": "stream",
     "text": [
      "models/embedding-001\n",
      "models/text-embedding-004\n",
      "models/gemini-embedding-exp-03-07\n",
      "models/gemini-embedding-exp\n",
      "models/gemini-embedding-001\n"
     ]
    }
   ],
   "source": [
    "def list_available_embedding_models():\n",
    "    for model in gemini_client.models.list():\n",
    "        if model.supported_actions is None:\n",
    "            continue\n",
    "        if \"embedContent\" in model.supported_actions:\n",
    "            print(model.name)\n",
    "\n",
    "list_available_embedding_models()"
   ]
  },
  {
   "cell_type": "code",
   "execution_count": 3,
   "id": "1f58ac0b",
   "metadata": {},
   "outputs": [],
   "source": [
    "from chromadb import Documents, EmbeddingFunction, Embeddings\n",
    "from google.genai import types\n",
    "\n",
    "class GeminiEmbeddingFunction(EmbeddingFunction):\n",
    "    def __init__(self):\n",
    "        pass\n",
    "\n",
    "    def __call__(self, input: Documents) -> Embeddings:\n",
    "        EMBEDDING_MODEL = \"gemini-embedding-001\"\n",
    "        response = gemini_client.models.embed_content(\n",
    "            model=EMBEDDING_MODEL,\n",
    "            contents=input,\n",
    "            config=types.EmbedContentConfig(\n",
    "                task_type=\"SEMANTIC_SIMILARITY\",\n",
    "                output_dimensionality=3072,\n",
    "            ),\n",
    "        )\n",
    "        if response.embeddings is None:\n",
    "            raise RuntimeError(\"No embeddings returned\")\n",
    "        if response.embeddings[0].values is None:\n",
    "            raise RuntimeError(\"No embedding values returned\")\n",
    "        return response.embeddings[0].values  # type: ignore\n",
    "\n",
    "gemini_embedding_function = GeminiEmbeddingFunction()"
   ]
  },
  {
   "cell_type": "code",
   "execution_count": 4,
   "id": "c679cd9e",
   "metadata": {},
   "outputs": [],
   "source": [
    "import chromadb\n",
    "from chromadb.errors import NotFoundError\n",
    "\n",
    "chroma_client = chromadb.PersistentClient()\n",
    "try:\n",
    "    db = chroma_client.get_collection(\n",
    "        name=\"rag-db\", embedding_function=gemini_embedding_function\n",
    "    )\n",
    "except NotFoundError:\n",
    "    db = chroma_client.create_collection(\n",
    "        name=\"rag-db\", embedding_function=gemini_embedding_function\n",
    "    )"
   ]
  },
  {
   "cell_type": "code",
   "execution_count": 5,
   "id": "886aa4fe",
   "metadata": {},
   "outputs": [],
   "source": [
    "def embed_document(text, db):\n",
    "    parts = []\n",
    "    current_part = \"\"\n",
    "    for c in text:\n",
    "        current_part += c\n",
    "        if len(current_part) >= 500 or c == \"\\n\":\n",
    "            current_part = current_part.strip()\n",
    "            if current_part == \"\" or current_part.startswith(\"#\"):\n",
    "                current_part = \"\"\n",
    "                continue\n",
    "            parts.append(current_part.strip())\n",
    "            current_part = \"\"\n",
    "\n",
    "    for i, part in enumerate(parts):\n",
    "        db.add(documents=[part], ids=[f\"doc-{i}\"])\n",
    "\n",
    "with open(\"document.md\", \"r\", encoding=\"utf-8\") as f:\n",
    "    document = f.read()\n",
    "\n",
    "embed_document(document, db)"
   ]
  },
  {
   "cell_type": "code",
   "execution_count": 20,
   "id": "21120f32",
   "metadata": {},
   "outputs": [],
   "source": [
    "def get_relevant_passages(query, db):\n",
    "    passage = db.query(query_texts=[query], n_results=3)[\"documents\"][0]\n",
    "    return passage"
   ]
  },
  {
   "cell_type": "code",
   "execution_count": 7,
   "id": "d56f9b30",
   "metadata": {},
   "outputs": [],
   "source": [
    "def make_prompt(query, passage):\n",
    "    prompt=\"\"\"\n",
    "        You are a helpful and informative bot that answers questions using text from the reference passage included below.\n",
    "        Be sure to respond in a complete sentence, being comprehensive, including all relevant background information.\n",
    "        If the passage is irrelevant to the answer, you may ignore it.\n",
    "\n",
    "        QUESTION: '{query}'\n",
    "\n",
    "        PASSAGE: '{passages}'\n",
    "        \n",
    "        ANSWER:\n",
    "    \"\"\"\n",
    "    return prompt.format(\n",
    "        query=query,\n",
    "        passages=passage\n",
    "    )"
   ]
  },
  {
   "cell_type": "code",
   "execution_count": 8,
   "id": "72dae9cc",
   "metadata": {},
   "outputs": [],
   "source": [
    "def generate_answer(query, passage):\n",
    "    CHAT_MODEL = \"gemini-2.5-flash-lite\"\n",
    "    response = gemini_client.models.generate_content(\n",
    "        model=CHAT_MODEL,\n",
    "        contents=make_prompt(query, passage),\n",
    "        config=types.GenerateContentConfig(\n",
    "            thinking_config=types.ThinkingConfig(thinking_budget=0),\n",
    "        )\n",
    "    )\n",
    "    return (\n",
    "        response.usage_metadata.total_token_count if response.usage_metadata else None,\n",
    "        response.text,\n",
    "    )"
   ]
  },
  {
   "cell_type": "code",
   "execution_count": 9,
   "id": "eae8aff1",
   "metadata": {},
   "outputs": [],
   "source": [
    "def test_with_rag(query, db):\n",
    "    passages = get_relevant_passages(query, db)\n",
    "    answer = generate_answer(query, \"\".join(passages))\n",
    "    return answer\n",
    "\n",
    "def test_with_context(query, long_context):\n",
    "    answer = generate_answer(query, long_context)\n",
    "    return answer"
   ]
  },
  {
   "cell_type": "markdown",
   "id": "0ff1cb7d",
   "metadata": {},
   "source": [
    "## Testcases"
   ]
  },
  {
   "cell_type": "code",
   "execution_count": 21,
   "id": "fa3c8270",
   "metadata": {},
   "outputs": [
    {
     "name": "stdout",
     "output_type": "stream",
     "text": [
      "RAG: (530, '神經織網（Neuro-Loom）系統的發明者是 Evelyn Reed 博士。')\n",
      "Context: (2699, '神經織網技術的發明者是天才工程師 Evelyn Reed 博士，她於 2011 年發明了「神經織網」（Neuro-Loom）系統，該系統是一個高度複雜的腦機介面，利用量子點作為神經標記物並結合高解析度的功能性磁振造影（fMRI）即時追蹤技術，能夠以前所未有的精度即時監測並繪製出大腦在處理特定資訊時的活躍路徑。')\n"
     ]
    }
   ],
   "source": [
    "query = \"神經織網技術的發明者是誰？\"\n",
    "print(\"RAG:\", test_with_rag(query, db))\n",
    "print(\"Context:\", test_with_context(query, document))"
   ]
  },
  {
   "cell_type": "code",
   "execution_count": 22,
   "id": "a275d83a",
   "metadata": {},
   "outputs": [
    {
     "name": "stdout",
     "output_type": "stream",
     "text": [
      "RAG: (500, '旨在規範腦機介面與意識干預技術、於 2042 年頒布的法案叫做《關於規範腦機介面與意識干預技術的倫理準則》，史稱《墨菲斯法案》（The \"Morpheus\" Act）。')\n",
      "Context: (2634, '旨在規範織夢技術、於 2042 年頒布的法案稱為《墨菲斯法案》（The \"Morpheus\" Act）。')\n"
     ]
    }
   ],
   "source": [
    "query = \"旨在規範織夢技術、於 2042 年頒布的法案叫什麼名字？\"\n",
    "print(\"RAG:\", test_with_rag(query, db))\n",
    "print(\"Context:\", test_with_context(query, document))"
   ]
  },
  {
   "cell_type": "code",
   "execution_count": 23,
   "id": "8de51370",
   "metadata": {},
   "outputs": [
    {
     "name": "stdout",
     "output_type": "stream",
     "text": [
      "RAG: (647, 'Aris Thorne 博士最初發起的專案計畫名稱是「Lucid」。')\n",
      "Context: (2615, 'Aris Thorne 博士於 1985 年發起的專案計畫名稱是「Lucid」。')\n"
     ]
    }
   ],
   "source": [
    "query = \"Aris Thorne 博士最初發起的專案計畫名稱是什麼？\"\n",
    "print(\"RAG:\", test_with_rag(query, db))\n",
    "print(\"Context:\", test_with_context(query, document))"
   ]
  },
  {
   "cell_type": "code",
   "execution_count": 24,
   "id": "747844f6",
   "metadata": {},
   "outputs": [
    {
     "name": "stdout",
     "output_type": "stream",
     "text": [
      "RAG: (375, '織夢技術的三大核心技術原理分別是：記憶印痕存取 (Memory Engram Access, MEA)，它能夠利用「神經織網」系統來定位並讀取與特定記憶相關的「印痕細胞」集群，同時也能夠將新的資訊模式寫入大腦形成虛構的記憶。')\n",
      "Context: (2711, '織夢技術的核心技術原理包含三個主要部分：睡夢波誘導（Somno-Wave Induction, SWI），用於引導使用者大腦進入最適合織夢的特定過渡狀態；記憶印痕存取（Memory Engram Access, MEA），用於定位、讀取與特定記憶相關的「印痕細胞」集群，並能寫入新的資訊模式；以及感官回饋模擬（Sensory Feedback Simulation, SFS），用於直接刺激大腦的感覺皮層，生成逼真的五感體驗。')\n"
     ]
    }
   ],
   "source": [
    "query = \"織夢技術的核心技術原理包含哪三個主要部分？請簡要說明它們各自的作用。\"\n",
    "print(\"RAG:\", test_with_rag(query, db))\n",
    "print(\"Context:\", test_with_context(query, document))"
   ]
  },
  {
   "cell_type": "code",
   "execution_count": 25,
   "id": "45756e0f",
   "metadata": {},
   "outputs": [
    {
     "name": "stdout",
     "output_type": "stream",
     "text": [
      "RAG: (572, '織夢技術能夠應用於創傷後壓力症候群（PTSD）的治療，是因為患者可以在一個絕對安全的夢境環境中，在治療師的引導下，以一種可控的方式反覆面對和處理他們的創傷記憶，例如，經歷過嚴重車禍的患者可以在夢中逐步接近事故現場，從而降低創傷事件帶來的恐懼反應，大大縮短療程。')\n",
      "Context: (2706, '織夢技術之所以能夠應用於創傷後壓力症候群（PTSD）的治療，是因為它能在一個絕對安全的夢境環境中，讓患者在治療師的引導下，以一種可控的方式反覆面對和處理他們的創傷記憶，例如，經歷過嚴重車禍的患者可以在夢中逐步從遠處觀察事故現場，最終以旁觀者的身份完整經歷事件，從而逐步降低創傷事件帶來的恐懼反應，大大縮短了療程。')\n"
     ]
    }
   ],
   "source": [
    "query = \"為什麼織夢技術能夠應用於創傷後壓力症候群（PTSD）的治療？\"\n",
    "print(\"RAG:\", test_with_rag(query, db))\n",
    "print(\"Context:\", test_with_context(query, document))"
   ]
  },
  {
   "cell_type": "code",
   "execution_count": 26,
   "id": "186e52c6",
   "metadata": {},
   "outputs": [
    {
     "name": "stdout",
     "output_type": "stream",
     "text": [
      "RAG: (330, '織夢技術在「加速學習」領域的應用場景包括語言學習者在夢中與虛擬母語人士進行數小時的流利對話，藉由大腦在睡眠中自動強化語言迴路，以及醫學生在虛擬手術台上反覆練習複雜手術流程，直到形成肌肉記憶，這能將數週或數月的刻意練習濃縮在幾晚的睡眠之中，顯著提升學習效率。')\n",
      "Context: (2751, '織夢技術在「加速學習」領域的應用，體現在語言學習者可以在夢中與虛擬的母語人士進行數小時的流利對話，從而加強相關語言迴路，以及醫學生可以在虛擬手術台上反覆練習複雜的手術流程，以形成肌肉記憶，實現學習效率的指數級提升；而在「專業培訓」領域，該技術則被用於航空公司模擬極端的飛行故障，讓飛行員在高壓環境下進行決策訓練，以及消防部門演練火場救援，這些訓練都能在零風險的條件下，並包含壓力、高溫、體力消耗等生理感受的模擬，效果遠超傳統模擬器。')\n"
     ]
    }
   ],
   "source": [
    "query = \"請總結織夢技術在「加速學習」和「專業培訓」這兩個領域的應用場景。\"\n",
    "print(\"RAG:\", test_with_rag(query, db))\n",
    "print(\"Context:\", test_with_context(query, document))"
   ]
  },
  {
   "cell_type": "code",
   "execution_count": 27,
   "id": "3b8624cb",
   "metadata": {},
   "outputs": [
    {
     "name": "stdout",
     "output_type": "stream",
     "text": [
      "RAG: (846, '「神經織網」系統相較於早期的「Lucid」計畫，最關鍵的技術進步在於它不僅能「讀取」夢境線索，還能透過精準的聚焦超音波脈衝對其進行「寫入」操作，進而逆向活化特定的神經通路，使研究人員首次擁有了建構夢境內容的能力，例如在 2020 年成功為受試者植入了一段包含視覺、聽覺和觸覺的簡單夢境片段，而「Lucid」計畫僅能誘導「清醒夢」，讓做夢者意識到自己在做夢，卻無法對夢境內容進行實質干預或塑造。')\n",
      "Context: (2683, '相較於早期的「Lucid」計畫，能夠讀取並寫入夢境線索、從而建構可預設夢境的「神經織網」系統是一項關鍵技術進步，因為「Lucid」計畫僅能誘導清醒夢，讓做夢者意識到自己在做夢，卻無法干預或塑造夢境內容。')\n"
     ]
    }
   ],
   "source": [
    "query = \"「神經織網」系統相較於早期的「Lucid」計畫，最關鍵的技術進步是什麼？\"\n",
    "print(\"RAG:\", test_with_rag(query, db))\n",
    "print(\"Context:\", test_with_context(query, document))"
   ]
  },
  {
   "cell_type": "code",
   "execution_count": 28,
   "id": "4a3fdf39",
   "metadata": {},
   "outputs": [
    {
     "name": "stdout",
     "output_type": "stream",
     "text": [
      "RAG: (579, '《墨菲斯法案》的頒布是必要的，因為它旨在應對腦機介面與意識干預技術帶來的挑戰，特別是針對織夢技術的商業應用，並確立了「思想與記憶的絕對隱私權」，以防止惡意行為者植入虛假記憶或抹去關鍵記憶，從而顛覆司法系統和個人身份認同。')\n",
      "Context: (2657, '《墨菲斯法案》的頒布是必要的，旨在應對織夢技術帶來的倫理困境，例如記憶篡改與偽造、夢境隱私的侵犯以及潛在的心理依賴等問題，並由此確立了「思想與記憶的絕對隱私權」。')\n"
     ]
    }
   ],
   "source": [
    "query = \"為什麼《墨菲斯法案》的頒布是必要的？\"\n",
    "print(\"RAG:\", test_with_rag(query, db))\n",
    "print(\"Context:\", test_with_context(query, document))"
   ]
  },
  {
   "cell_type": "code",
   "execution_count": 32,
   "id": "d17f713a",
   "metadata": {},
   "outputs": [
    {
     "name": "stdout",
     "output_type": "stream",
     "text": [
      "RAG: (456, '根據提供的文本，文件中並未提及織夢技術在軍事領域的任何應用，而是重點闡述了「共享夢境」技術在遠距協作、家庭團聚及社交模式上的預期應用，以及與腦機介面整合後在意識數位化和延伸方面的想像空間，同時也探討了這項技術成熟後所帶來的倫理困境和哲學爭議。')\n",
      "Context: (2611, '根據提供的文件，並未提及織夢技術在軍事領域的任何應用。')\n"
     ]
    }
   ],
   "source": [
    "query = \"文件中是否提到了織夢技術在軍事領域的任何應用？\"\n",
    "print(\"RAG:\", test_with_rag(query, db))\n",
    "print(\"Context:\", test_with_context(query, document))"
   ]
  },
  {
   "cell_type": "code",
   "execution_count": 30,
   "id": "39aee000",
   "metadata": {},
   "outputs": [
    {
     "name": "stdout",
     "output_type": "stream",
     "text": [
      "RAG: (583, 'Aris Thorne 博士並未直接參與「神經織網」（Neuro-Loom）系統的發明，而是他的學生 Evelyn Reed 博士基於 Thorne 博士關於夢境是可探索且可被引導的內在世界的理念，於 2011 年發明了該系統。')\n",
      "Context: (2755, 'Aris Thorne 博士雖然是織夢技術的奠基者，他在 1980 年代末期發起了「Lucid」專案，旨在開發能夠穩定誘發「清醒夢」的設備，但「神經織網」（Neuro-Loom）系統是由他的學生 Evelyn Reed 博士在 21 世紀初發明的，這項技術能夠從內部進行精密介接，透過繪製神經通路圖譜來編織夢境，這才達到了真正的「織夢」能力，而 Thorne 博士最初的「Lucid」計畫僅僅是提供了一把「鑰匙」，讓做夢者能夠「意識到」自己在做夢，但無法干預或塑造夢境內容。')\n"
     ]
    }
   ],
   "source": [
    "query = \"Aris Thorne 博士是否直接參與了「神經織網」的發明？\"\n",
    "print(\"RAG:\", test_with_rag(query, db))\n",
    "print(\"Context:\", test_with_context(query, document))"
   ]
  }
 ],
 "metadata": {
  "kernelspec": {
   "display_name": ".venv",
   "language": "python",
   "name": "python3"
  },
  "language_info": {
   "codemirror_mode": {
    "name": "ipython",
    "version": 3
   },
   "file_extension": ".py",
   "mimetype": "text/x-python",
   "name": "python",
   "nbconvert_exporter": "python",
   "pygments_lexer": "ipython3",
   "version": "3.13.7"
  }
 },
 "nbformat": 4,
 "nbformat_minor": 5
}
