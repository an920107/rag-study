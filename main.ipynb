{
 "cells": [
  {
   "cell_type": "code",
   "execution_count": 1,
   "id": "84a9ed74",
   "metadata": {},
   "outputs": [],
   "source": [
    "from dotenv import load_dotenv\n",
    "from google import genai\n",
    "\n",
    "load_dotenv()\n",
    "gemini_client = genai.Client()"
   ]
  },
  {
   "cell_type": "code",
   "execution_count": 2,
   "id": "1eb568f1",
   "metadata": {},
   "outputs": [
    {
     "name": "stdout",
     "output_type": "stream",
     "text": [
      "models/embedding-001\n",
      "models/text-embedding-004\n",
      "models/gemini-embedding-exp-03-07\n",
      "models/gemini-embedding-exp\n",
      "models/gemini-embedding-001\n"
     ]
    }
   ],
   "source": [
    "def list_available_embedding_models():\n",
    "    for model in gemini_client.models.list():\n",
    "        if model.supported_actions is None:\n",
    "            continue\n",
    "        if \"embedContent\" in model.supported_actions:\n",
    "            print(model.name)\n",
    "\n",
    "list_available_embedding_models()"
   ]
  },
  {
   "cell_type": "code",
   "execution_count": 3,
   "id": "1f58ac0b",
   "metadata": {},
   "outputs": [],
   "source": [
    "from chromadb import Documents, EmbeddingFunction, Embeddings\n",
    "from google.genai import types\n",
    "\n",
    "class GeminiEmbeddingFunction(EmbeddingFunction):\n",
    "    def __init__(self):\n",
    "        pass\n",
    "\n",
    "    def __call__(self, input: Documents) -> Embeddings:\n",
    "        EMBEDDING_MODEL = \"gemini-embedding-001\"\n",
    "        response = gemini_client.models.embed_content(\n",
    "            model=EMBEDDING_MODEL,\n",
    "            contents=input,\n",
    "            config=types.EmbedContentConfig(\n",
    "                title=\"Custom embedding\",\n",
    "                task_type=\"RETRIEVAL_DOCUMENT\",\n",
    "                output_dimensionality=3072,\n",
    "            ),\n",
    "        )\n",
    "        if response.embeddings is None:\n",
    "            raise RuntimeError(\"No embeddings returned\")\n",
    "        if response.embeddings[0].values is None:\n",
    "            raise RuntimeError(\"No embedding values returned\")\n",
    "        return response.embeddings[0].values  # type: ignore\n",
    "\n",
    "gemini_embedding_function = GeminiEmbeddingFunction()"
   ]
  },
  {
   "cell_type": "code",
   "execution_count": 4,
   "id": "c679cd9e",
   "metadata": {},
   "outputs": [],
   "source": [
    "import chromadb\n",
    "from chromadb.errors import NotFoundError\n",
    "\n",
    "chroma_client = chromadb.PersistentClient()\n",
    "try:\n",
    "    db = chroma_client.get_collection(\n",
    "        name=\"rag-db\", embedding_function=GeminiEmbeddingFunction()\n",
    "    )\n",
    "except NotFoundError:\n",
    "    db = chroma_client.create_collection(\n",
    "        name=\"rag-db\", embedding_function=GeminiEmbeddingFunction()\n",
    "    )"
   ]
  },
  {
   "cell_type": "code",
   "execution_count": 5,
   "id": "886aa4fe",
   "metadata": {},
   "outputs": [],
   "source": [
    "def embed_document(text, db):\n",
    "    parts = []\n",
    "    current_part = \"\"\n",
    "    for c in text:\n",
    "        current_part += c\n",
    "        if len(current_part) >= 500 or c == \"\\n\":\n",
    "            current_part = current_part.strip()\n",
    "            if current_part == \"\" or current_part.startswith(\"#\"):\n",
    "                current_part = \"\"\n",
    "                continue\n",
    "            parts.append(current_part.strip())\n",
    "            current_part = \"\"\n",
    "\n",
    "    for i, part in enumerate(parts):\n",
    "        db.add(documents=[part], ids=[f\"doc-{i}\"])\n",
    "\n",
    "with open(\"document.md\", \"r\", encoding=\"utf-8\") as f:\n",
    "    document = f.read()\n",
    "\n",
    "# embed_document(document, db)"
   ]
  },
  {
   "cell_type": "code",
   "execution_count": 35,
   "id": "21120f32",
   "metadata": {},
   "outputs": [],
   "source": [
    "def get_relevant_passages(query, db):\n",
    "    passage = db.query(query_texts=[query], n_results=5)[\"documents\"][0]\n",
    "    return passage"
   ]
  },
  {
   "cell_type": "code",
   "execution_count": 7,
   "id": "d56f9b30",
   "metadata": {},
   "outputs": [],
   "source": [
    "def make_prompt(query, passage):\n",
    "    prompt=\"\"\"\n",
    "        You are a helpful and informative bot that answers questions using text from the reference passage included below.\n",
    "        Be sure to respond in a complete sentence, being comprehensive, including all relevant background information.\n",
    "        If the passage is irrelevant to the answer, you may ignore it.\n",
    "\n",
    "        QUESTION: '{query}'\n",
    "\n",
    "        PASSAGE: '{passages}'\n",
    "        \n",
    "        ANSWER:\n",
    "    \"\"\"\n",
    "    return prompt.format(\n",
    "        query=query,\n",
    "        passages=passage\n",
    "    )"
   ]
  },
  {
   "cell_type": "code",
   "execution_count": 41,
   "id": "72dae9cc",
   "metadata": {},
   "outputs": [],
   "source": [
    "def generate_answer(query, passage):\n",
    "    CHAT_MODEL = \"gemini-2.5-flash-lite\"\n",
    "    response = gemini_client.models.generate_content(\n",
    "        model=CHAT_MODEL,\n",
    "        contents=make_prompt(query, passage),\n",
    "        config=types.GenerateContentConfig(\n",
    "            thinking_config=types.ThinkingConfig(thinking_budget=0),\n",
    "        )\n",
    "    )\n",
    "    return (\n",
    "        response.usage_metadata.total_token_count if response.usage_metadata else None,\n",
    "        response.text,\n",
    "    )"
   ]
  },
  {
   "cell_type": "code",
   "execution_count": null,
   "id": "eae8aff1",
   "metadata": {},
   "outputs": [],
   "source": [
    "def test_with_rag(query, db):\n",
    "    passages = get_relevant_passages(query, db)\n",
    "    answer = generate_answer(query, \"\".join(passages))\n",
    "    return answer\n",
    "\n",
    "def test_with_context(query, long_context):\n",
    "    answer = generate_answer(query, long_context)\n",
    "    return answer"
   ]
  },
  {
   "cell_type": "markdown",
   "id": "0ff1cb7d",
   "metadata": {},
   "source": [
    "## Testcases"
   ]
  },
  {
   "cell_type": "code",
   "execution_count": 42,
   "id": "fa3c8270",
   "metadata": {},
   "outputs": [
    {
     "name": "stdout",
     "output_type": "stream",
     "text": [
      "RAG: (499, 'Reed 博士在 2011 年發明了「神經織網」（Neuro-Loom）系統。')\n",
      "Context: (2608, '神經織網技術的發明者是天才工程師 Evelyn Reed 博士。')\n"
     ]
    }
   ],
   "source": [
    "query = \"神經織網技術的發明者是誰？\"\n",
    "print(\"RAG:\", test_with_rag(query, db))\n",
    "print(\"Context:\", test_with_context(query, document))"
   ]
  },
  {
   "cell_type": "code",
   "execution_count": 43,
   "id": "a275d83a",
   "metadata": {},
   "outputs": [
    {
     "name": "stdout",
     "output_type": "stream",
     "text": [
      "RAG: (641, '於 2042 年頒布、旨在規範腦機介面與意識干預技術的法案，即《關於規範腦機介面與意識干預技術的倫理準則》，被稱為《墨菲斯法案》（The \"Morpheus\" Act）。')\n",
      "Context: (2634, '旨在規範織夢技術、於 2042 年頒布的法案稱為《墨菲斯法案》（The \"Morpheus\" Act）。')\n"
     ]
    }
   ],
   "source": [
    "query = \"旨在規範織夢技術、於 2042 年頒布的法案叫什麼名字？\"\n",
    "print(\"RAG:\", test_with_rag(query, db))\n",
    "print(\"Context:\", test_with_context(query, document))"
   ]
  },
  {
   "cell_type": "code",
   "execution_count": 44,
   "id": "8de51370",
   "metadata": {},
   "outputs": [
    {
     "name": "stdout",
     "output_type": "stream",
     "text": [
      "RAG: (831, 'Aris Thorne 博士最初發起的專案計畫名稱是「Lucid」。')\n",
      "Context: (2615, 'Aris Thorne 博士於 1985 年發起的專案計畫名稱是「Lucid」。')\n"
     ]
    }
   ],
   "source": [
    "query = \"Aris Thorne 博士最初發起的專案計畫名稱是什麼？\"\n",
    "print(\"RAG:\", test_with_rag(query, db))\n",
    "print(\"Context:\", test_with_context(query, document))"
   ]
  },
  {
   "cell_type": "code",
   "execution_count": 45,
   "id": "747844f6",
   "metadata": {},
   "outputs": [
    {
     "name": "stdout",
     "output_type": "stream",
     "text": [
      "RAG: (528, '織夢技術的實現依賴於三大核心技術的整合，其中「睡夢波誘導 (Somno-Wave Induction, SWI)」是織夢過程的第一步，該技術通過釋放特定頻率的聲光信號，引導使用者大腦進入適合織夢的非快速動眼期（NREM）第三階段和快速動眼期（REM）之間的過渡狀態，此時大腦記憶整理活躍且神經可塑性達峰值，便於外部引導和記憶存取。')\n",
      "Context: (2715, '織夢技術的核心技術原理包含三個主要部分：睡夢波誘導（Somno-Wave Induction, SWI），它引導使用者大腦進入適合織夢的過渡狀態；記憶印痕存取（Memory Engram Access, MEA），它定位並讀取與特定記憶相關的「印痕細胞」集群，並能將新的資訊模式寫入；以及感官回饋模擬（Sensory Feedback Simulation, SFS），它通過電磁信號刺激大腦的感覺皮層，直接生成逼真的五感體驗。')\n"
     ]
    }
   ],
   "source": [
    "query = \"織夢技術的核心技術原理包含哪三個主要部分？請簡要說明它們各自的作用。\"\n",
    "print(\"RAG:\", test_with_rag(query, db))\n",
    "print(\"Context:\", test_with_context(query, document))"
   ]
  },
  {
   "cell_type": "code",
   "execution_count": 46,
   "id": "45756e0f",
   "metadata": {},
   "outputs": [
    {
     "name": "stdout",
     "output_type": "stream",
     "text": [
      "RAG: (717, '織夢技術能夠應用於創傷後壓力症候群（PTSD）的治療，是因為它能夠在絕對安全的夢境環境中，引導患者以可控的方式反覆面對和處理他們的創傷記憶，從而逐步降低創傷事件帶來的恐懼反應，大大縮短療程。')\n",
      "Context: (2675, '織夢技術可以應用於創傷後壓力症候群（PTSD）的治療，因為它能夠在一個絕對安全的夢境環境中，讓患者在治療師的引導下，以可控的方式反覆面對和處理他們的創傷記憶，從而逐步降低創傷事件帶來的恐懼反應，並大大縮短療程。')\n"
     ]
    }
   ],
   "source": [
    "query = \"為什麼織夢技術能夠應用於創傷後壓力症候群（PTSD）的治療？\"\n",
    "print(\"RAG:\", test_with_rag(query, db))\n",
    "print(\"Context:\", test_with_context(query, document))"
   ]
  },
  {
   "cell_type": "code",
   "execution_count": 47,
   "id": "186e52c6",
   "metadata": {},
   "outputs": [
    {
     "name": "stdout",
     "output_type": "stream",
     "text": [
      "RAG: (461, '織夢技術在「加速學習」領域的應用場景包括語言學習者在夢中與虛擬母語人士進行數小時的流利對話，從而強化語言迴路，以及醫學生在虛擬手術台上反覆練習複雜手術流程，直到形成肌肉記憶，將數週甚至數月的刻意練習濃縮在睡眠之中，從而指數級提升學習效率。')\n",
      "Context: (2792, '織夢技術在「加速學習」領域的應用場景包括讓語言學習者在夢中與虛擬母語人士進行數小時的流利對話，從而讓大腦在睡眠中自動強化相關的語言迴路；同時，醫學生也能夠在虛擬手術台上反覆練習複雜的手術流程，直至形成肌肉記憶，這相當於將數週甚至數月的刻意練習濃縮在幾晚的睡眠之中，從而實現學習效率的指數級提升。在「專業培訓」領域，航空公司可以利用此技術模擬各種極端的飛行故障，讓飛行員在高壓環境下進行決策訓練；消防部門則可以演練火場救援，這些訓練不僅包含視覺模擬，還能模擬壓力、高溫和體力消耗等生理感受，其效果遠超傳統的模擬器，並能在零風險的條件下完成。')\n"
     ]
    }
   ],
   "source": [
    "query = \"請總結織夢技術在「加速學習」和「專業培訓」這兩個領域的應用場景。\"\n",
    "print(\"RAG:\", test_with_rag(query, db))\n",
    "print(\"Context:\", test_with_context(query, document))"
   ]
  },
  {
   "cell_type": "code",
   "execution_count": 48,
   "id": "3b8624cb",
   "metadata": {},
   "outputs": [
    {
     "name": "stdout",
     "output_type": "stream",
     "text": [
      "RAG: (863, '與早期的「Lucid」計畫相比，「神經織網」系統最關鍵的技術進步在於它不僅能夠「讀取」夢境線索，還能透過精準的聚焦超音波脈衝對其進行「寫入」操作，從而逆向活化特定的神經通路，實現對夢境內容的建構，這使得研究人員首次擁有了建構夢境內容的能力。')\n",
      "Context: (2732, '相較於早期的「Lucid」計畫，關鍵的技術進步是「神經織網」系統能夠從內部進行精密的「介接」，透過繪製與特定記憶、情感和感官體驗相關的神經通路圖譜，將代表概念的「神經纖維」編織成一段完整的、可預設的夢境體驗，進而實現對夢境內容的干預和塑造，而「Lucid」計畫僅能誘發「清醒夢」，讓做夢者意識到自己在做夢，卻無法對夢境內容進行實質性干預。')\n"
     ]
    }
   ],
   "source": [
    "query = \"「神經織網」系統相較於早期的「Lucid」計畫，最關鍵的技術進步是什麼？\"\n",
    "print(\"RAG:\", test_with_rag(query, db))\n",
    "print(\"Context:\", test_with_context(query, document))"
   ]
  },
  {
   "cell_type": "code",
   "execution_count": 49,
   "id": "4a3fdf39",
   "metadata": {},
   "outputs": [
    {
     "name": "stdout",
     "output_type": "stream",
     "text": [
      "RAG: (733, '《墨菲斯法案》的頒布是必要的，因為它嚴格限制了織夢技術的商業應用範圍，禁止其用於廣告和司法審訊，並確立了「思想與記憶的絕對隱私權」，以應對腦機介面與意識干預技術所帶來的潛在挑戰，例如侵犯個人最深層的恐懼、慾望和秘密，以及記憶篡改與偽造等倫理困境。')\n",
      "Context: (2650, '《墨菲斯法案》（The \"Morpheus\" Act）的頒布是必要的，因為它旨在應對織夢技術帶來的倫理困境，例如記憶篡改與偽造、夢境隱私以及潛在的心理依賴等問題。')\n"
     ]
    }
   ],
   "source": [
    "query = \"為什麼《墨菲斯法案》的頒布是必要的？\"\n",
    "print(\"RAG:\", test_with_rag(query, db))\n",
    "print(\"Context:\", test_with_context(query, document))"
   ]
  },
  {
   "cell_type": "code",
   "execution_count": 50,
   "id": "d17f713a",
   "metadata": {},
   "outputs": [
    {
     "name": "stdout",
     "output_type": "stream",
     "text": [
      "RAG: (488, '文件中沒有提到織夢技術在軍事領域的任何應用。')\n",
      "Context: (2611, '根據提供的資料，織夢技術在軍事領域的應用並未被提及。')\n"
     ]
    }
   ],
   "source": [
    "query = \"文件中是否提到了織夢技術在軍事領域的任何應用？\"\n",
    "print(\"RAG:\", test_with_rag(query, db))\n",
    "print(\"Context:\", test_with_context(query, document))"
   ]
  },
  {
   "cell_type": "code",
   "execution_count": 51,
   "id": "39aee000",
   "metadata": {},
   "outputs": [
    {
     "name": "stdout",
     "output_type": "stream",
     "text": [
      "RAG: (776, 'Aris Thorne 博士奠定了織夢技術的基礎，但「神經織網」系統是由他的學生 Evelyn Reed 博士於 2011 年發明的。')\n",
      "Context: (2653, 'Aris Thorne 博士並沒有直接參與「神經織網」的發明，而是由他的學生 Evelyn Reed 博士基於 Thorne 博士早期的清醒夢研究，在 21 世紀初發明了「神經織網」系統。')\n"
     ]
    }
   ],
   "source": [
    "query = \"Aris Thorne 博士是否直接參與了「神經織網」的發明？\"\n",
    "print(\"RAG:\", test_with_rag(query, db))\n",
    "print(\"Context:\", test_with_context(query, document))"
   ]
  }
 ],
 "metadata": {
  "kernelspec": {
   "display_name": ".venv",
   "language": "python",
   "name": "python3"
  },
  "language_info": {
   "codemirror_mode": {
    "name": "ipython",
    "version": 3
   },
   "file_extension": ".py",
   "mimetype": "text/x-python",
   "name": "python",
   "nbconvert_exporter": "python",
   "pygments_lexer": "ipython3",
   "version": "3.13.5"
  }
 },
 "nbformat": 4,
 "nbformat_minor": 5
}
